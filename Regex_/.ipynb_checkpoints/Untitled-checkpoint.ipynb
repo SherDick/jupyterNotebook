{
 "cells": [
  {
   "cell_type": "code",
   "execution_count": null,
   "metadata": {},
   "outputs": [],
   "source": [
    "import requests\n",
    "import re\n",
    "content = requests.get('https://book.douban.com/').text\n",
    "print(content)\n",
    "pattern = re.compile('<li.*?cover.*?href=\"(.*?)\".*?title=\"(.*?)\".*?</li>', re.S)\n",
    "results = re.findall(pattern, content)\n",
    "# print(results)"
   ]
  },
  {
   "cell_type": "code",
   "execution_count": null,
   "metadata": {},
   "outputs": [],
   "source": [
    "import requests\n",
    "import re\n",
    "\n",
    "    content = requests.get('https://book.douban.com/').text\n",
    "    # print(content)\n",
    "    # pattern = re.compile('<li.*?title=\"(.*?)\".*?</li>', re.S)\n",
    "    pattern = re.compile('<li.*?cover.*?href=\"(.*?)\" title=\"(.*?)\">', re.S)\n",
    "    # pattern = re.compile('<li.*?cover.*?href=\"(.*?)\".*?title=\"(.*?)\".*?</li>', re.S)\n",
    "    # pattern = re.compile('<li.*?cover.*?href=\"(.*?)\".*?title=\"(.*?)\".*?more-meta.*?author\">(.*?)</span>.*?year\">(.*?)</span>.*?</li>', re.S)\n",
    "    print('start...')\n",
    "    results = re.findall(pattern, content)\n",
    "    print('end...')\n",
    "    # print(results.group(1), results.group(2))\n",
    "    # print(results.group(1).strip(), results.group(2).strip(), results.group(3).strip(), results.group(4))\n",
    "    # print(results)\n",
    "    for result in results:\n",
    "        url, name = result\n",
    "        print(url, name)"
   ]
  }
 ],
 "metadata": {
  "kernelspec": {
   "display_name": "Python 3",
   "language": "python",
   "name": "python3"
  },
  "language_info": {
   "codemirror_mode": {
    "name": "ipython",
    "version": 3
   },
   "file_extension": ".py",
   "mimetype": "text/x-python",
   "name": "python",
   "nbconvert_exporter": "python",
   "pygments_lexer": "ipython3",
   "version": "3.7.2"
  }
 },
 "nbformat": 4,
 "nbformat_minor": 2
}
