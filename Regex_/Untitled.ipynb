{
 "cells": [
  {
   "cell_type": "code",
   "execution_count": null,
   "metadata": {},
   "outputs": [],
   "source": [
    "import requests\n",
    "import re\n",
    "content = requests.get('https://book.douban.com/').text\n",
    "print(content)\n",
    "pattern = re.compile('<li.*?cover.*?href=\"(.*?)\".*?title=\"(.*?)\".*?</li>', re.S)\n",
    "results = re.findall(pattern, content)\n",
    "# print(results)"
   ]
  },
  {
   "cell_type": "code",
   "execution_count": 2,
   "metadata": {},
   "outputs": [
    {
     "name": "stdout",
     "output_type": "stream",
     "text": [
      "start...\n",
      "end...\n",
      "https://book.douban.com/subject/33429955/?icn=index-latestbook-subject 辛格自选集\n",
      "https://book.douban.com/subject/33425193/?icn=index-latestbook-subject 原因与结果的经济学\n",
      "https://book.douban.com/subject/33444102/?icn=index-latestbook-subject 风眼\n",
      "https://book.douban.com/subject/33424487/?icn=index-latestbook-subject 时间的秩序\n",
      "https://book.douban.com/subject/30272309/?icn=index-latestbook-subject 堤坝\n",
      "https://book.douban.com/subject/33424495/?icn=index-latestbook-subject 创世记\n",
      "https://book.douban.com/subject/33422845/?icn=index-latestbook-subject 企鹅经典：小黑书·第三辑\n",
      "https://book.douban.com/subject/30432502/?icn=index-latestbook-subject 药物简史\n",
      "https://book.douban.com/subject/33411838/?icn=index-latestbook-subject 未来人不存在\n",
      "https://book.douban.com/subject/30312128/?icn=index-latestbook-subject 企鹅欧洲史·古典欧洲的诞生\n",
      "https://book.douban.com/subject/33377961/?icn=index-latestbook-subject 波尔多往事\n",
      "https://book.douban.com/subject/33400679/?icn=index-latestbook-subject 死屋\n",
      "https://book.douban.com/subject/33380620/?icn=index-latestbook-subject 坟场之书：全2册\n",
      "https://book.douban.com/subject/33429236/?icn=index-latestbook-subject 怎样玩转信息\n",
      "https://book.douban.com/subject/33395266/?icn=index-latestbook-subject 愤怒的葡萄\n",
      "https://book.douban.com/subject/30447356/?icn=index-latestbook-subject 驯化\n",
      "https://book.douban.com/subject/33446904/?icn=index-latestbook-subject 烧火工\n",
      "https://book.douban.com/subject/30488255/?icn=index-latestbook-subject 独异性社会\n",
      "https://book.douban.com/subject/30422622/?icn=index-latestbook-subject 秋\n",
      "https://book.douban.com/subject/33445035/?icn=index-latestbook-subject 韩剧如何讲故事\n",
      "https://book.douban.com/subject/33437314/?icn=index-latestbook-subject 海边的露露\n",
      "https://book.douban.com/subject/30464960/?icn=index-latestbook-subject 坂本龙马与明治维新\n",
      "https://book.douban.com/subject/30488238/?icn=index-latestbook-subject 独角兽魔法全书\n",
      "https://book.douban.com/subject/30293663/?icn=index-latestbook-subject 绝对笑喷之弃业医生日志\n",
      "https://book.douban.com/subject/30488942/?icn=index-latestbook-subject 天使之耳\n",
      "https://book.douban.com/subject/33391500/?icn=index-latestbook-subject 狂想人生：皇后乐队传\n",
      "https://book.douban.com/subject/30489673/?icn=index-latestbook-subject 十五条狗\n",
      "https://book.douban.com/subject/33377950/?icn=index-latestbook-subject 野鸟形态图鉴\n",
      "https://book.douban.com/subject/30441962/?icn=index-latestbook-subject 犹大之窗\n",
      "https://book.douban.com/subject/30422602/?icn=index-latestbook-subject 失控的农业\n",
      "https://book.douban.com/subject/30448928/?icn=index-latestbook-subject 柔嫩的脸颊\n",
      "https://book.douban.com/subject/33444642/?icn=index-latestbook-subject 麦肯锡精英高效阅读法\n",
      "https://book.douban.com/subject/30259677/?icn=index-latestbook-subject 焚舟纪\n",
      "https://book.douban.com/subject/33438176/?icn=index-latestbook-subject 如何畅享啤酒\n",
      "https://book.douban.com/subject/34262146/?icn=index-latestbook-subject 一只计划逃跑的蛋\n",
      "https://book.douban.com/subject/30473101/?icn=index-latestbook-subject 如何解读希腊陶瓶\n",
      "https://book.douban.com/subject/33431300/?icn=index-latestbook-subject 夏日纪事\n",
      "https://book.douban.com/subject/33372580/?icn=index-latestbook-subject 科幻编年史\n",
      "https://book.douban.com/subject/33402246/?icn=index-latestbook-subject 柏林传说\n",
      "https://book.douban.com/subject/33447952/?icn=index-latestbook-subject 问彼嵩洛\n"
     ]
    }
   ],
   "source": [
    "import requests\n",
    "import re\n",
    "\n",
    "content = requests.get('https://book.douban.com/').text\n",
    "pattern = re.compile('<li.*?cover.*?href=\"(.*?)\" title=\"(.*?)\">', re.S)\n",
    "print('start...')\n",
    "results = re.findall(pattern, content)\n",
    "print('end...')\n",
    "for result in results:\n",
    "    url, name = result\n",
    "    print(url, name)"
   ]
  },
  {
   "cell_type": "code",
   "execution_count": null,
   "metadata": {},
   "outputs": [],
   "source": []
  }
 ],
 "metadata": {
  "kernelspec": {
   "display_name": "Python 3",
   "language": "python",
   "name": "python3"
  },
  "language_info": {
   "codemirror_mode": {
    "name": "ipython",
    "version": 3
   },
   "file_extension": ".py",
   "mimetype": "text/x-python",
   "name": "python",
   "nbconvert_exporter": "python",
   "pygments_lexer": "ipython3",
   "version": "3.7.2"
  }
 },
 "nbformat": 4,
 "nbformat_minor": 2
}
